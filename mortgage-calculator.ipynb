{
 "cells": [
  {
   "cell_type": "code",
   "execution_count": 1,
   "id": "2e76e39b-8eb1-4345-b0f1-51a400767f8a",
   "metadata": {},
   "outputs": [
    {
     "data": {
      "text/plain": [
       "True"
      ]
     },
     "execution_count": 1,
     "metadata": {},
     "output_type": "execute_result"
    }
   ],
   "source": [
    "from openai import OpenAI\n",
    "from dotenv import load_dotenv\n",
    "load_dotenv()"
   ]
  },
  {
   "cell_type": "code",
   "execution_count": 2,
   "id": "af035e7a-6594-4a7e-8929-24effdbbf45d",
   "metadata": {},
   "outputs": [],
   "source": [
    "client = OpenAI()"
   ]
  },
  {
   "cell_type": "code",
   "execution_count": 3,
   "id": "372fd642-d37f-4136-9937-0395b0773050",
   "metadata": {},
   "outputs": [],
   "source": [
    "# STEP 1: Creating the Assistant\n",
    "\n",
    "assistant = client.beta.assistants.create(\n",
    "    name=\"Mortgage Calculator\",\n",
    "    instructions=\"You use Python code to help answer questions about mortgage and interest payments.\",\n",
    "    tools = [{'type':'code_interpreter'}],\n",
    "    model = 'gpt-3.5-turbo'\n",
    ")"
   ]
  },
  {
   "cell_type": "code",
   "execution_count": 4,
   "id": "e42286b0-a484-43e3-84fe-f95053b4ec32",
   "metadata": {},
   "outputs": [
    {
     "data": {
      "text/plain": [
       "'asst_WqoaI7xLibpUW77eBUo0zdeL'"
      ]
     },
     "execution_count": 4,
     "metadata": {},
     "output_type": "execute_result"
    }
   ],
   "source": [
    "assistant.id"
   ]
  },
  {
   "cell_type": "code",
   "execution_count": 37,
   "id": "f0dd7a99-ff63-4a30-9b20-b4bf9e72b274",
   "metadata": {},
   "outputs": [],
   "source": [
    "# STEP 2: Creating a Thread\n",
    "thread = client.beta.threads.create()"
   ]
  },
  {
   "cell_type": "code",
   "execution_count": 38,
   "id": "f5a27d53-fdb4-4dc0-8046-9b82642c9dcc",
   "metadata": {},
   "outputs": [
    {
     "data": {
      "text/plain": [
       "'thread_QPoNXF5dJZlQXHJANS7CdfmT'"
      ]
     },
     "execution_count": 38,
     "metadata": {},
     "output_type": "execute_result"
    }
   ],
   "source": [
    "thread.id"
   ]
  },
  {
   "cell_type": "code",
   "execution_count": 35,
   "id": "def78387-b8a4-4103-b70b-3d85a1f6ac17",
   "metadata": {},
   "outputs": [],
   "source": [
    "delete_thread = client.beta.threads.delete('thread_86zxuRANGqlWXKKeRQ1RBYzJ')"
   ]
  },
  {
   "cell_type": "code",
   "execution_count": 36,
   "id": "412f2271-4eca-4918-9183-d38aac074487",
   "metadata": {},
   "outputs": [
    {
     "data": {
      "text/plain": [
       "ThreadDeleted(id='thread_86zxuRANGqlWXKKeRQ1RBYzJ', deleted=True, object='thread.deleted')"
      ]
     },
     "execution_count": 36,
     "metadata": {},
     "output_type": "execute_result"
    }
   ],
   "source": [
    "delete_thread"
   ]
  },
  {
   "cell_type": "code",
   "execution_count": 39,
   "id": "fafc63e3-554a-4239-8ea1-605c56849a8b",
   "metadata": {},
   "outputs": [],
   "source": [
    "# STEP 3: Add message to thread\n",
    "message_1 = client.beta.threads.messages.create(\n",
    "    thread_id = thread.id,\n",
    "    role = 'user',\n",
    "    content = 'I want to buy a house that costs £1.5 Million on a 30 year fixed loan at 5% interest. What will my monthly payments be?')"
   ]
  },
  {
   "cell_type": "code",
   "execution_count": 47,
   "id": "5e25c812-9f1e-4037-ada4-2b60435ca7be",
   "metadata": {},
   "outputs": [],
   "source": [
    "# STEP 4: Run the thread w/ Assistant\n",
    "\n",
    "import time\n",
    "\n",
    "def run_and_wait(assistant_id, thread_id, instructions=\"\"):\n",
    "    run = client.beta.threads.runs.create(\n",
    "        assistant_id = assistant_id,\n",
    "        thread_id = thread_id,\n",
    "        instructions = instructions\n",
    "    )\n",
    "    while run.status == 'queued' or run.status == 'in_progress':\n",
    "        run = client.beta.threads.runs.retrieve(\n",
    "            thread_id = thread.id,\n",
    "            run_id = run.id)\n",
    "        time.sleep(2)\n",
    "        print(run.status)\n",
    "    return run"
   ]
  },
  {
   "cell_type": "code",
   "execution_count": 48,
   "id": "c0764326-de3c-4310-88ad-aa52c5b5d122",
   "metadata": {},
   "outputs": [
    {
     "name": "stdout",
     "output_type": "stream",
     "text": [
      "in_progress\n",
      "completed\n"
     ]
    }
   ],
   "source": [
    "run = run_and_wait(\n",
    "    assistant_id = assistant.id,\n",
    "    thread_id = thread.id,\n",
    "    instructions = 'Give a detailed analysis and considerations regarding mortgage payments.'\n",
    ")"
   ]
  },
  {
   "cell_type": "code",
   "execution_count": 43,
   "id": "4d5014e5-e0c8-4c6f-9082-cd0818c53123",
   "metadata": {},
   "outputs": [],
   "source": [
    "# STEP 5: Display response\n",
    "messages = client.beta.threads.messages.list(\n",
    "    thread_id = thread.id,\n",
    "    order = 'asc',\n",
    "    after = message_1.id\n",
    ")"
   ]
  },
  {
   "cell_type": "code",
   "execution_count": 44,
   "id": "a83063c7-ffdd-4076-93ae-72fa06ff1f9f",
   "metadata": {},
   "outputs": [],
   "source": [
    "def display_thread_messages(messages):\n",
    "    for thread_message in messages.data:\n",
    "        print(thread_message.content[0].text.value)\n",
    "        print('\\n')"
   ]
  },
  {
   "cell_type": "code",
   "execution_count": 45,
   "id": "3f7d233f-9a6d-4f78-abd9-7c719dd1d5ce",
   "metadata": {},
   "outputs": [
    {
     "name": "stdout",
     "output_type": "stream",
     "text": [
      "To calculate the monthly mortgage payment for a loan, we can use the formula for calculating the monthly payment on a fixed-rate mortgage:\n",
      "\n",
      "\\[\n",
      "M = P \\times \\frac{r(1+r)^n}{(1+r)^n - 1}\n",
      "\\]\n",
      "\n",
      "Where:\n",
      "- \\( M \\) is the monthly mortgage payment\n",
      "- \\( P \\) is the principal loan amount (initial loan amount) - in this case, £1.5 Million\n",
      "- \\( r \\) is the monthly interest rate (annual interest rate divided by 12)\n",
      "- \\( n \\) is the number of monthly payments (loan term in years multiplied by 12)\n",
      "\n",
      "Let's calculate the monthly mortgage payment based on the given loan amount, interest rate, and loan term.\n",
      "\n",
      "\n",
      "The monthly mortgage payment for a £1.5 Million house on a 30-year fixed loan with a 5% interest rate would be approximately £8,052.32. \n",
      "\n",
      "This monthly payment includes both the principal amount and the interest. Over the 30-year term, you would make a total of 360 payments (12 payments per year for 30 years).\n",
      "\n",
      "This calculation assumes that the interest rate remains fixed for the entire term of the loan and does not take into account additional costs such as property taxes, insurance, or other fees that may be associated with your mortgage.\n",
      "\n",
      "\n"
     ]
    }
   ],
   "source": [
    "display_thread_messages(messages)"
   ]
  },
  {
   "cell_type": "code",
   "execution_count": 46,
   "id": "34a3598e-4c35-4a85-bd0c-de34b22da8c7",
   "metadata": {},
   "outputs": [
    {
     "data": {
      "text/plain": [
       "\"To calculate the monthly mortgage payment for a loan, we can use the formula for calculating the monthly payment on a fixed-rate mortgage:\\n\\n\\\\[\\nM = P \\\\times \\\\frac{r(1+r)^n}{(1+r)^n - 1}\\n\\\\]\\n\\nWhere:\\n- \\\\( M \\\\) is the monthly mortgage payment\\n- \\\\( P \\\\) is the principal loan amount (initial loan amount) - in this case, £1.5 Million\\n- \\\\( r \\\\) is the monthly interest rate (annual interest rate divided by 12)\\n- \\\\( n \\\\) is the number of monthly payments (loan term in years multiplied by 12)\\n\\nLet's calculate the monthly mortgage payment based on the given loan amount, interest rate, and loan term.\""
      ]
     },
     "execution_count": 46,
     "metadata": {},
     "output_type": "execute_result"
    }
   ],
   "source": [
    "messages.data[0].content[0].text.value\n"
   ]
  },
  {
   "cell_type": "code",
   "execution_count": 52,
   "id": "8ffb6383-534a-47e5-a78a-bd2930041915",
   "metadata": {},
   "outputs": [],
   "source": [
    "# Step 6: Create a new message for the same thread\n",
    "message_2 = client.beta.threads.messages.create(\n",
    "    thread_id = thread.id,\n",
    "    role = 'user',\n",
    "    content = 'What if I put a down payment of £700.000, how would this change my monthly payment?'\n",
    ")"
   ]
  },
  {
   "cell_type": "code",
   "execution_count": 53,
   "id": "ed29971c-5bbb-4563-841c-a2b95889b5a2",
   "metadata": {},
   "outputs": [
    {
     "name": "stdout",
     "output_type": "stream",
     "text": [
      "in_progress\n",
      "in_progress\n",
      "in_progress\n",
      "in_progress\n",
      "in_progress\n",
      "in_progress\n",
      "in_progress\n",
      "in_progress\n",
      "in_progress\n",
      "in_progress\n",
      "in_progress\n",
      "in_progress\n",
      "completed\n"
     ]
    }
   ],
   "source": [
    "run = run_and_wait(\n",
    "    assistant_id = assistant.id,\n",
    "    thread_id = thread.id,\n",
    "    instructions = 'Give a detailed analysis and considerations regarding mortgage payments.'\n",
    ")"
   ]
  },
  {
   "cell_type": "code",
   "execution_count": 56,
   "id": "957329bf-5b92-4332-93fc-868ad700cb93",
   "metadata": {},
   "outputs": [],
   "source": [
    "messages = client.beta.threads.messages.list(\n",
    "    thread_id = thread.id,\n",
    "    order = 'asc',\n",
    "    after = message_1.id\n",
    ")"
   ]
  },
  {
   "cell_type": "code",
   "execution_count": 57,
   "id": "70f5b67c-b85d-4a50-aa6c-e8babf4ee2bb",
   "metadata": {},
   "outputs": [
    {
     "name": "stdout",
     "output_type": "stream",
     "text": [
      "To calculate the monthly mortgage payment for a loan, we can use the formula for calculating the monthly payment on a fixed-rate mortgage:\n",
      "\n",
      "\\[\n",
      "M = P \\times \\frac{r(1+r)^n}{(1+r)^n - 1}\n",
      "\\]\n",
      "\n",
      "Where:\n",
      "- \\( M \\) is the monthly mortgage payment\n",
      "- \\( P \\) is the principal loan amount (initial loan amount) - in this case, £1.5 Million\n",
      "- \\( r \\) is the monthly interest rate (annual interest rate divided by 12)\n",
      "- \\( n \\) is the number of monthly payments (loan term in years multiplied by 12)\n",
      "\n",
      "Let's calculate the monthly mortgage payment based on the given loan amount, interest rate, and loan term.\n",
      "\n",
      "\n",
      "The monthly mortgage payment for a £1.5 Million house on a 30-year fixed loan with a 5% interest rate would be approximately £8,052.32. \n",
      "\n",
      "This monthly payment includes both the principal amount and the interest. Over the 30-year term, you would make a total of 360 payments (12 payments per year for 30 years).\n",
      "\n",
      "This calculation assumes that the interest rate remains fixed for the entire term of the loan and does not take into account additional costs such as property taxes, insurance, or other fees that may be associated with your mortgage.\n",
      "\n",
      "\n",
      "Let me know if you need any further assistance!\n",
      "\n",
      "\n",
      "What if I put a down payment of £700.000, how would this change my monthly payment?\n",
      "\n",
      "\n",
      "If you make a down payment of £700,000 towards the purchase price of £1.5 Million, it will reduce the principal amount of the loan. The new principal amount would be £1.5 Million - £700,000 = £800,000.\n",
      "\n",
      "We can now recalculate the monthly mortgage payment using the reduced principal amount. Let's calculate the new monthly payment.\n",
      "\n",
      "\n",
      "With a down payment of £700,000, the new monthly mortgage payment for a £1.5 Million house on a 30-year fixed loan with a 5% interest rate would be approximately £4,294.57. \n",
      "\n",
      "By making a larger down payment, you effectively reduce the principal amount of the loan, resulting in a lower monthly payment. The down payment reduces the amount you need to borrow, which leads to lower monthly interest payments and a shorter loan term.\n",
      "\n",
      "Feel free to reach out if you have any more questions or need further assistance!\n",
      "\n",
      "\n"
     ]
    }
   ],
   "source": [
    "display_thread_messages(messages)"
   ]
  },
  {
   "cell_type": "markdown",
   "id": "a740f51a-1e6a-404f-9928-eb266ed0387e",
   "metadata": {},
   "source": [
    "To calculate the monthly mortgage payment for a loan, we can use the formula for calculating the monthly payment on a fixed-rate mortgage:\n",
    "\n",
    "$$\n",
    "M = P \\times \\frac{r(1+r)^n}{(1+r)^n - 1}\n",
    "$$\n",
    "\n",
    "Where:\n",
    "- \\( M \\) is the monthly mortgage payment\n",
    "- \\( P \\) is the principal loan amount (initial loan amount) - in this case, £1.5 Million\n",
    "- \\( r \\) is the monthly interest rate (annual interest rate divided by 12)\n",
    "- \\( n \\) is the number of monthly payments (loan term in years multiplied by 12)\n",
    "\n",
    "Let's calculate the monthly mortgage payment based on the given loan amount, interest rate, and loan term.\n",
    "\n",
    "\n",
    "The monthly mortgage payment for a £1.5 Million house on a 30-year fixed loan with a 5% interest rate would be approximately £8,052.32. \n",
    "\n",
    "This monthly payment includes both the principal amount and the interest. Over the 30-year term, you would make a total of 360 payments (12 payments per year for 30 years).\n",
    "\n",
    "This calculation assumes that the interest rate remains fixed for the entire term of the loan and does not take into account additional costs such as property taxes, insurance, or other fees that may be associated with your mortgage.\n",
    "\n",
    "\n",
    "Let me know if you need any further assistance!\n",
    "\n",
    "\n",
    "What if I put a down payment of £700.000, how would this change my monthly payment?\n",
    "\n",
    "\n",
    "If you make a down payment of £700,000 towards the purchase price of £1.5 Million, it will reduce the principal amount of the loan. The new principal amount would be £1.5 Million - £700,000 = £800,000.\n",
    "\n",
    "We can now recalculate the monthly mortgage payment using the reduced principal amount. Let's calculate the new monthly payment.\n",
    "\n",
    "\n",
    "With a down payment of £700,000, the new monthly mortgage payment for a £1.5 Million house on a 30-year fixed loan with a 5% interest rate would be approximately £4,294.57. \n",
    "\n",
    "By making a larger down payment, you effectively reduce the principal amount of the loan, resulting in a lower monthly payment. The down payment reduces the amount you need to borrow, which leads to lower monthly interest payments and a shorter loan term.\n",
    "\n",
    "Feel free to reach out if you have any more questions or need further assistance!\n"
   ]
  },
  {
   "cell_type": "code",
   "execution_count": 58,
   "id": "994de96d-086a-48e7-abe1-11b1c771c5c3",
   "metadata": {},
   "outputs": [],
   "source": [
    "run_steps = client.beta.threads.runs.steps.list(\n",
    "    thread_id = thread.id,\n",
    "    run_id = run.id\n",
    ")"
   ]
  },
  {
   "cell_type": "code",
   "execution_count": 59,
   "id": "d883d2ba-f65e-498c-be9a-ac3871c032e7",
   "metadata": {},
   "outputs": [
    {
     "name": "stdout",
     "output_type": "stream",
     "text": [
      "MessageCreationStepDetails(message_creation=MessageCreation(message_id='msg_rqHIhFMTE9RmJ72pFDP4oKCw'), type='message_creation')\n",
      "\n",
      "\n",
      "ToolCallsStepDetails(tool_calls=[CodeInterpreterToolCall(id='call_7tT4czKCPWamADfJ9Mpnipor', code_interpreter=CodeInterpreter(input='# Given values\\nprincipal = 1500000  # loan amount in pounds\\nannual_interest_rate = 0.05  # 5% annual interest rate\\nloan_term_years = 30  # 30 year loan term\\ndown_payment = 700000  # down payment in pounds\\n\\n# New principal amount after down payment\\nnew_principal = principal - down_payment\\n\\n# Convert annual interest rate to monthly interest rate\\nmonthly_interest_rate = annual_interest_rate / 12\\n\\n# Convert loan term to months\\nloan_term_months = loan_term_years * 12\\n\\n# Calculate new monthly mortgage payment using the formula\\nnew_monthly_payment = new_principal * (monthly_interest_rate * (1 + monthly_interest_rate)**loan_term_months) / ((1 + monthly_interest_rate)**loan_term_months - 1)\\nnew_monthly_payment', outputs=[]), type='code_interpreter')], type='tool_calls')\n",
      "\n",
      "\n",
      "ToolCallsStepDetails(tool_calls=[CodeInterpreterToolCall(id='call_oPZVcxjFczjPMByEvqRn6kZr', code_interpreter=CodeInterpreter(input='# New principal amount after down payment\\nnew_principal = principal - 700000\\n\\n# Calculate new monthly mortgage payment using the formula\\nnew_monthly_payment = new_principal * (monthly_interest_rate * (1 + monthly_interest_rate)**loan_term_months) / ((1 + monthly_interest_rate)**loan_term_months - 1)\\nnew_monthly_payment', outputs=[]), type='code_interpreter')], type='tool_calls')\n",
      "\n",
      "\n",
      "MessageCreationStepDetails(message_creation=MessageCreation(message_id='msg_HOUD6NU4HBq8YwKIX76vj03X'), type='message_creation')\n",
      "\n",
      "\n"
     ]
    }
   ],
   "source": [
    "for step in run_steps:\n",
    "    print(step.step_details)\n",
    "    print('\\n')"
   ]
  },
  {
   "cell_type": "code",
   "execution_count": 21,
   "id": "1cf56606-1ce7-4dd2-9252-c3ec214cdcab",
   "metadata": {},
   "outputs": [],
   "source": [
    "# Delete the assistant:\n",
    "response = client.beta.assistants.delete(assistant.id)"
   ]
  },
  {
   "cell_type": "code",
   "execution_count": 22,
   "id": "eecd0301-84d7-436d-a238-e98d595aeb31",
   "metadata": {},
   "outputs": [
    {
     "data": {
      "text/plain": [
       "AssistantDeleted(id='asst_HYSt1vSEPMsIFUrvgvn4bqVy', deleted=True, object='assistant.deleted')"
      ]
     },
     "execution_count": 22,
     "metadata": {},
     "output_type": "execute_result"
    }
   ],
   "source": [
    "response"
   ]
  },
  {
   "cell_type": "code",
   "execution_count": null,
   "id": "9d11e8d2-599c-4eb4-b6ff-5c9ae1c77636",
   "metadata": {},
   "outputs": [],
   "source": []
  }
 ],
 "metadata": {
  "kernelspec": {
   "display_name": "Python 3 (ipykernel)",
   "language": "python",
   "name": "python3"
  },
  "language_info": {
   "codemirror_mode": {
    "name": "ipython",
    "version": 3
   },
   "file_extension": ".py",
   "mimetype": "text/x-python",
   "name": "python",
   "nbconvert_exporter": "python",
   "pygments_lexer": "ipython3",
   "version": "3.12.2"
  }
 },
 "nbformat": 4,
 "nbformat_minor": 5
}
