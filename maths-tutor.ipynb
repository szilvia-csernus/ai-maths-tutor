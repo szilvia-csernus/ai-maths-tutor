{
 "cells": [
  {
   "cell_type": "code",
   "execution_count": 4,
   "id": "2e76e39b-8eb1-4345-b0f1-51a400767f8a",
   "metadata": {},
   "outputs": [
    {
     "data": {
      "text/plain": [
       "True"
      ]
     },
     "execution_count": 4,
     "metadata": {},
     "output_type": "execute_result"
    }
   ],
   "source": [
    "from openai import OpenAI\n",
    "from dotenv import load_dotenv\n",
    "load_dotenv()"
   ]
  },
  {
   "cell_type": "code",
   "execution_count": 5,
   "id": "af035e7a-6594-4a7e-8929-24effdbbf45d",
   "metadata": {},
   "outputs": [],
   "source": [
    "client = OpenAI()"
   ]
  },
  {
   "cell_type": "code",
   "execution_count": 4,
   "id": "372fd642-d37f-4136-9937-0395b0773050",
   "metadata": {},
   "outputs": [],
   "source": [
    "# The assistant's 'instructions' property serves as the 'system' role's content for the chat completion api.\n",
    "\n",
    "assistant = client.beta.assistants.create(\n",
    "    name=\"Maths Tutor\",\n",
    "    instructions=\"You convert maths problems into Python code and then run the code to show the answer.\",\n",
    "    tools = [{'type':'code_interpreter'}],\n",
    "    model = 'gpt-3.5-turbo'\n",
    ")"
   ]
  },
  {
   "cell_type": "code",
   "execution_count": 5,
   "id": "e42286b0-a484-43e3-84fe-f95053b4ec32",
   "metadata": {},
   "outputs": [
    {
     "data": {
      "text/plain": [
       "'asst_HYSt1vSEPMsIFUrvgvn4bqVy'"
      ]
     },
     "execution_count": 5,
     "metadata": {},
     "output_type": "execute_result"
    }
   ],
   "source": [
    "assistant.id"
   ]
  },
  {
   "cell_type": "code",
   "execution_count": 7,
   "id": "f0dd7a99-ff63-4a30-9b20-b4bf9e72b274",
   "metadata": {},
   "outputs": [],
   "source": [
    "# Threads currently have a time limit of 60 days after which they will be deleted automatically.\n",
    "# Threads have no size limit so they are essentially a never-ending conversation. This is different from text\n",
    "# completion, where we have to worry about context length and how many messages we're sending over to the \n",
    "# completion bot. Here, the assistant is smart enouth to just do a truncation of the messages in order to fit\n",
    "# into its content length.\n",
    "thread = client.beta.threads.create()"
   ]
  },
  {
   "cell_type": "code",
   "execution_count": 9,
   "id": "f5a27d53-fdb4-4dc0-8046-9b82642c9dcc",
   "metadata": {},
   "outputs": [
    {
     "data": {
      "text/plain": [
       "'thread_ISTYDFjT9bBzGYhE6Bkpt2ys'"
      ]
     },
     "execution_count": 9,
     "metadata": {},
     "output_type": "execute_result"
    }
   ],
   "source": [
    "thread.id"
   ]
  },
  {
   "cell_type": "code",
   "execution_count": 8,
   "id": "fafc63e3-554a-4239-8ea1-605c56849a8b",
   "metadata": {},
   "outputs": [],
   "source": [
    "# The Chat GPT LLM, without the code interpreter, cannot answer this question on its own correctly. The assistant will\n",
    "# use the 'code_interpreter' tool, which we allocated it to it, to unswer this question.\n",
    "message_1 = client.beta.threads.messages.create(\n",
    "    thread_id = thread.id,\n",
    "    role = 'user',\n",
    "    content = 'What is 123456 times 456789?')"
   ]
  },
  {
   "cell_type": "code",
   "execution_count": 10,
   "id": "c0764326-de3c-4310-88ad-aa52c5b5d122",
   "metadata": {},
   "outputs": [],
   "source": [
    "run = client.beta.threads.runs.create(\n",
    "    assistant_id = assistant.id,\n",
    "    thread_id = thread.id)"
   ]
  },
  {
   "cell_type": "code",
   "execution_count": 11,
   "id": "2eaad206-79e8-454b-84c5-b69548bac913",
   "metadata": {},
   "outputs": [
    {
     "data": {
      "text/plain": [
       "'queued'"
      ]
     },
     "execution_count": 11,
     "metadata": {},
     "output_type": "execute_result"
    }
   ],
   "source": [
    "run.status"
   ]
  },
  {
   "cell_type": "code",
   "execution_count": 13,
   "id": "a72536fe-8d55-447b-a884-156b0484483f",
   "metadata": {},
   "outputs": [],
   "source": [
    "run = client.beta.threads.runs.retrieve(\n",
    "    thread_id=thread.id,\n",
    "    run_id=run.id)"
   ]
  },
  {
   "cell_type": "code",
   "execution_count": 14,
   "id": "0f78bf52-521e-4d84-97cd-8a9e5f93e0b2",
   "metadata": {},
   "outputs": [
    {
     "data": {
      "text/plain": [
       "'completed'"
      ]
     },
     "execution_count": 14,
     "metadata": {},
     "output_type": "execute_result"
    }
   ],
   "source": [
    "run.status"
   ]
  },
  {
   "cell_type": "code",
   "execution_count": 16,
   "id": "4d5014e5-e0c8-4c6f-9082-cd0818c53123",
   "metadata": {},
   "outputs": [],
   "source": [
    "messages = client.beta.threads.messages.list(\n",
    "    thread_id = thread.id\n",
    ")"
   ]
  },
  {
   "cell_type": "code",
   "execution_count": 17,
   "id": "3f7d233f-9a6d-4f78-abd9-7c719dd1d5ce",
   "metadata": {},
   "outputs": [
    {
     "data": {
      "text/plain": [
       "SyncCursorPage[Message](data=[Message(id='msg_LjRnPBSXqD2pLtmjWuYHUYOS', assistant_id='asst_HYSt1vSEPMsIFUrvgvn4bqVy', attachments=[], completed_at=None, content=[TextContentBlock(text=Text(annotations=[], value='123456 multiplied by 456789 equals 56,393,342,784.'), type='text')], created_at=1718358279, incomplete_at=None, incomplete_details=None, metadata={}, object='thread.message', role='assistant', run_id='run_I1hCQuwFWS0S1k5RtdAYTGdo', status=None, thread_id='thread_ISTYDFjT9bBzGYhE6Bkpt2ys'), Message(id='msg_IqBVSdBdP8skQijeQhl2WDKc', assistant_id=None, attachments=[], completed_at=None, content=[TextContentBlock(text=Text(annotations=[], value='What is 123456 times 456789?'), type='text')], created_at=1718357348, incomplete_at=None, incomplete_details=None, metadata={}, object='thread.message', role='user', run_id=None, status=None, thread_id='thread_ISTYDFjT9bBzGYhE6Bkpt2ys')], object='list', first_id='msg_LjRnPBSXqD2pLtmjWuYHUYOS', last_id='msg_IqBVSdBdP8skQijeQhl2WDKc', has_more=False)"
      ]
     },
     "execution_count": 17,
     "metadata": {},
     "output_type": "execute_result"
    }
   ],
   "source": [
    "messages"
   ]
  },
  {
   "cell_type": "code",
   "execution_count": 18,
   "id": "34a3598e-4c35-4a85-bd0c-de34b22da8c7",
   "metadata": {},
   "outputs": [
    {
     "data": {
      "text/plain": [
       "'123456 multiplied by 456789 equals 56,393,342,784.'"
      ]
     },
     "execution_count": 18,
     "metadata": {},
     "output_type": "execute_result"
    }
   ],
   "source": [
    "messages.data[0].content[0].text.value\n"
   ]
  },
  {
   "cell_type": "code",
   "execution_count": 19,
   "id": "994de96d-086a-48e7-abe1-11b1c771c5c3",
   "metadata": {},
   "outputs": [],
   "source": [
    "run_steps = client.beta.threads.runs.steps.list(\n",
    "    thread_id = thread.id,\n",
    "    run_id = run.id\n",
    ")"
   ]
  },
  {
   "cell_type": "code",
   "execution_count": 20,
   "id": "d883d2ba-f65e-498c-be9a-ac3871c032e7",
   "metadata": {},
   "outputs": [
    {
     "name": "stdout",
     "output_type": "stream",
     "text": [
      "MessageCreationStepDetails(message_creation=MessageCreation(message_id='msg_LjRnPBSXqD2pLtmjWuYHUYOS'), type='message_creation')\n",
      "\n",
      "\n",
      "ToolCallsStepDetails(tool_calls=[CodeInterpreterToolCall(id='call_eSV1cFKijiNtSCD5C7DClf9N', code_interpreter=CodeInterpreter(input='# Calculate the product of 123456 and 456789\\nresult = 123456 * 456789\\nresult', outputs=[]), type='code_interpreter')], type='tool_calls')\n",
      "\n",
      "\n"
     ]
    }
   ],
   "source": [
    "for step in run_steps:\n",
    "    print(step.step_details)\n",
    "    print('\\n')"
   ]
  },
  {
   "cell_type": "code",
   "execution_count": 21,
   "id": "1cf56606-1ce7-4dd2-9252-c3ec214cdcab",
   "metadata": {},
   "outputs": [],
   "source": [
    "# Delete the assistant:\n",
    "response = client.beta.assistants.delete(assistant.id)"
   ]
  },
  {
   "cell_type": "code",
   "execution_count": 22,
   "id": "eecd0301-84d7-436d-a238-e98d595aeb31",
   "metadata": {},
   "outputs": [
    {
     "data": {
      "text/plain": [
       "AssistantDeleted(id='asst_HYSt1vSEPMsIFUrvgvn4bqVy', deleted=True, object='assistant.deleted')"
      ]
     },
     "execution_count": 22,
     "metadata": {},
     "output_type": "execute_result"
    }
   ],
   "source": [
    "response"
   ]
  },
  {
   "cell_type": "code",
   "execution_count": null,
   "id": "9d11e8d2-599c-4eb4-b6ff-5c9ae1c77636",
   "metadata": {},
   "outputs": [],
   "source": []
  }
 ],
 "metadata": {
  "kernelspec": {
   "display_name": "Python 3 (ipykernel)",
   "language": "python",
   "name": "python3"
  },
  "language_info": {
   "codemirror_mode": {
    "name": "ipython",
    "version": 3
   },
   "file_extension": ".py",
   "mimetype": "text/x-python",
   "name": "python",
   "nbconvert_exporter": "python",
   "pygments_lexer": "ipython3",
   "version": "3.12.2"
  }
 },
 "nbformat": 4,
 "nbformat_minor": 5
}
